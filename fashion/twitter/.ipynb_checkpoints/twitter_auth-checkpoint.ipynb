{
 "cells": [
  {
   "cell_type": "code",
   "execution_count": 1,
   "metadata": {
    "collapsed": false
   },
   "outputs": [],
   "source": [
    "cons_key = 'yFfvTlslMTGCCz93TXnWfO3ty'\n",
    "cons_sec = '5TXoS8xMGRafkRK0URYx5fLvU2BGBg4JbpBxYLfv5d2anQODUY'\n",
    "acc_tok = '23786930-6vmj6LLpVq4beSyB1sgxlJz5NYpKuYpME7qtCx2gj'\n",
    "acc_sec = 'QHUopcDYOgAcgjZksh609dp3uYDlZzIfueFjFN35tlBd6'"
   ]
  },
  {
   "cell_type": "code",
   "execution_count": 5,
   "metadata": {
    "collapsed": false
   },
   "outputs": [],
   "source": [
    "# Chap02-03/twitter_client.py \n",
    "import os \n",
    "import sys \n",
    "from tweepy import API \n",
    "from tweepy import OAuthHandler \n",
    " \n",
    "def get_twitter_auth(): \n",
    "    \"\"\"Setup Twitter authentication. \n",
    " \n",
    "    Return: tweepy.OAuthHandler object \n",
    "    \"\"\" \n",
    "    try: \n",
    "        consumer_key = cons_key\n",
    "        consumer_secret = cons_sec\n",
    "        access_token = acc_tok\n",
    "        access_secret = acc_sec\n",
    "    except KeyError: \n",
    "        sys.stderr.write(\"TWITTER_* environment variables not set\\n\") \n",
    "        sys.exit(1) \n",
    "    auth = OAuthHandler(consumer_key, consumer_secret) \n",
    "    auth.set_access_token(access_token, access_secret) \n",
    "    return auth \n",
    "\n",
    "def get_twitter_client(): \n",
    "    \"\"\"Setup Twitter API client. \n",
    "\n",
    "    Return: tweepy.API object \n",
    "    \"\"\" \n",
    "    auth = get_twitter_auth() \n",
    "    client = API(auth) \n",
    "    return client "
   ]
  },
  {
   "cell_type": "code",
   "execution_count": 7,
   "metadata": {
    "collapsed": false
   },
   "outputs": [],
   "source": [
    "client = get_twitter_client()"
   ]
  }
 ],
 "metadata": {
  "kernelspec": {
   "display_name": "Python 3",
   "language": "python",
   "name": "python3"
  },
  "language_info": {
   "codemirror_mode": {
    "name": "ipython",
    "version": 3
   },
   "file_extension": ".py",
   "mimetype": "text/x-python",
   "name": "python",
   "nbconvert_exporter": "python",
   "pygments_lexer": "ipython3",
   "version": "3.6.0"
  }
 },
 "nbformat": 4,
 "nbformat_minor": 2
}
